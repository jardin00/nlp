{
 "cells": [
  {
   "cell_type": "code",
   "execution_count": 1,
   "metadata": {},
   "outputs": [],
   "source": [
    "import pandas as pd\n",
    "import numpy as np\n",
    "from konlpy.tag import Okt\n",
    "from sklearn.model_selection import train_test_split\n",
    "from tqdm import tqdm\n",
    "from keras.preprocessing.text import Tokenizer\n",
    "from keras.utils import pad_sequences, to_categorical"
   ]
  },
  {
   "cell_type": "markdown",
   "metadata": {},
   "source": [
    "### 데이터"
   ]
  },
  {
   "cell_type": "code",
   "execution_count": 2,
   "metadata": {},
   "outputs": [
    {
     "data": {
      "text/html": [
       "<div>\n",
       "<style scoped>\n",
       "    .dataframe tbody tr th:only-of-type {\n",
       "        vertical-align: middle;\n",
       "    }\n",
       "\n",
       "    .dataframe tbody tr th {\n",
       "        vertical-align: top;\n",
       "    }\n",
       "\n",
       "    .dataframe thead th {\n",
       "        text-align: right;\n",
       "    }\n",
       "</style>\n",
       "<table border=\"1\" class=\"dataframe\">\n",
       "  <thead>\n",
       "    <tr style=\"text-align: right;\">\n",
       "      <th></th>\n",
       "      <th>wav_id</th>\n",
       "      <th>발화문</th>\n",
       "      <th>상황</th>\n",
       "      <th>1번 감정</th>\n",
       "      <th>1번 감정세기</th>\n",
       "      <th>2번 감정</th>\n",
       "      <th>2번 감정세기</th>\n",
       "      <th>3번 감정</th>\n",
       "      <th>3번 감정세기</th>\n",
       "      <th>4번 감정</th>\n",
       "      <th>4번감정세기</th>\n",
       "      <th>5번 감정</th>\n",
       "      <th>5번 감정세기</th>\n",
       "      <th>나이</th>\n",
       "      <th>성별</th>\n",
       "    </tr>\n",
       "  </thead>\n",
       "  <tbody>\n",
       "    <tr>\n",
       "      <th>0</th>\n",
       "      <td>5e258fd1305bcf3ad153a6a4</td>\n",
       "      <td>어, 청소 니가 대신 해 줘!</td>\n",
       "      <td>anger</td>\n",
       "      <td>Neutral</td>\n",
       "      <td>0</td>\n",
       "      <td>Angry</td>\n",
       "      <td>1</td>\n",
       "      <td>Neutral</td>\n",
       "      <td>0</td>\n",
       "      <td>Neutral</td>\n",
       "      <td>0</td>\n",
       "      <td>Angry</td>\n",
       "      <td>1</td>\n",
       "      <td>27</td>\n",
       "      <td>male</td>\n",
       "    </tr>\n",
       "    <tr>\n",
       "      <th>1</th>\n",
       "      <td>5e258fe2305bcf3ad153a6a5</td>\n",
       "      <td>둘 다 청소 하기 싫어. 귀찮아.</td>\n",
       "      <td>anger</td>\n",
       "      <td>Neutral</td>\n",
       "      <td>0</td>\n",
       "      <td>Angry</td>\n",
       "      <td>1</td>\n",
       "      <td>Neutral</td>\n",
       "      <td>0</td>\n",
       "      <td>Neutral</td>\n",
       "      <td>0</td>\n",
       "      <td>Angry</td>\n",
       "      <td>1</td>\n",
       "      <td>27</td>\n",
       "      <td>male</td>\n",
       "    </tr>\n",
       "    <tr>\n",
       "      <th>2</th>\n",
       "      <td>5e258ff5305bcf3ad153a6a6</td>\n",
       "      <td>둘 다 하기 싫어서 화내.</td>\n",
       "      <td>anger</td>\n",
       "      <td>Angry</td>\n",
       "      <td>1</td>\n",
       "      <td>Angry</td>\n",
       "      <td>1</td>\n",
       "      <td>Neutral</td>\n",
       "      <td>0</td>\n",
       "      <td>Angry</td>\n",
       "      <td>1</td>\n",
       "      <td>Angry</td>\n",
       "      <td>1</td>\n",
       "      <td>27</td>\n",
       "      <td>male</td>\n",
       "    </tr>\n",
       "  </tbody>\n",
       "</table>\n",
       "</div>"
      ],
      "text/plain": [
       "                     wav_id                 발화문     상황    1번 감정  1번 감정세기  \\\n",
       "0  5e258fd1305bcf3ad153a6a4    어, 청소 니가 대신 해 줘!  anger  Neutral        0   \n",
       "1  5e258fe2305bcf3ad153a6a5  둘 다 청소 하기 싫어. 귀찮아.  anger  Neutral        0   \n",
       "2  5e258ff5305bcf3ad153a6a6      둘 다 하기 싫어서 화내.  anger    Angry        1   \n",
       "\n",
       "   2번 감정  2번 감정세기    3번 감정  3번 감정세기    4번 감정  4번감정세기  5번 감정  5번 감정세기  나이    성별  \n",
       "0  Angry        1  Neutral        0  Neutral       0  Angry        1  27  male  \n",
       "1  Angry        1  Neutral        0  Neutral       0  Angry        1  27  male  \n",
       "2  Angry        1  Neutral        0    Angry       1  Angry        1  27  male  "
      ]
     },
     "execution_count": 2,
     "metadata": {},
     "output_type": "execute_result"
    }
   ],
   "source": [
    "data1 = pd.read_csv('4차년도.csv',encoding='utf-8')\n",
    "data1.head(3)"
   ]
  },
  {
   "cell_type": "code",
   "execution_count": 3,
   "metadata": {},
   "outputs": [
    {
     "data": {
      "text/html": [
       "<div>\n",
       "<style scoped>\n",
       "    .dataframe tbody tr th:only-of-type {\n",
       "        vertical-align: middle;\n",
       "    }\n",
       "\n",
       "    .dataframe tbody tr th {\n",
       "        vertical-align: top;\n",
       "    }\n",
       "\n",
       "    .dataframe thead th {\n",
       "        text-align: right;\n",
       "    }\n",
       "</style>\n",
       "<table border=\"1\" class=\"dataframe\">\n",
       "  <thead>\n",
       "    <tr style=\"text-align: right;\">\n",
       "      <th></th>\n",
       "      <th>wav_id</th>\n",
       "      <th>발화문</th>\n",
       "      <th>상황</th>\n",
       "      <th>1번 감정</th>\n",
       "      <th>1번 감정세기</th>\n",
       "      <th>2번 감정</th>\n",
       "      <th>2번 감정세기</th>\n",
       "      <th>3번 감정</th>\n",
       "      <th>3번 감정세기</th>\n",
       "      <th>4번 감정</th>\n",
       "      <th>4번감정세기</th>\n",
       "      <th>5번 감정</th>\n",
       "      <th>5번 감정세기</th>\n",
       "      <th>나이</th>\n",
       "      <th>성별</th>\n",
       "    </tr>\n",
       "  </thead>\n",
       "  <tbody>\n",
       "    <tr>\n",
       "      <th>0</th>\n",
       "      <td>5ed10dbc2880d70f286121c3</td>\n",
       "      <td>개를 예쁘다고 사놓고 끝까지 키우지도 않고 버리는 사람들이 엄청 많아졌대.</td>\n",
       "      <td>disgust</td>\n",
       "      <td>Angry</td>\n",
       "      <td>2</td>\n",
       "      <td>Angry</td>\n",
       "      <td>2</td>\n",
       "      <td>Angry</td>\n",
       "      <td>2</td>\n",
       "      <td>Angry</td>\n",
       "      <td>2</td>\n",
       "      <td>Angry</td>\n",
       "      <td>2</td>\n",
       "      <td>33</td>\n",
       "      <td>female</td>\n",
       "    </tr>\n",
       "    <tr>\n",
       "      <th>1</th>\n",
       "      <td>5ecb60ef9aa8ea0eec53edb1</td>\n",
       "      <td>지금도 그대로 있어. 치우는 사람이 없어.</td>\n",
       "      <td>disgust</td>\n",
       "      <td>Neutral</td>\n",
       "      <td>0</td>\n",
       "      <td>Disgust</td>\n",
       "      <td>2</td>\n",
       "      <td>Sadness</td>\n",
       "      <td>2</td>\n",
       "      <td>Disgust</td>\n",
       "      <td>2</td>\n",
       "      <td>Disgust</td>\n",
       "      <td>1</td>\n",
       "      <td>48</td>\n",
       "      <td>female</td>\n",
       "    </tr>\n",
       "    <tr>\n",
       "      <th>2</th>\n",
       "      <td>5f052858b140144dfcfef768</td>\n",
       "      <td>맞아. 무기력증인 것 같아. 한동안 정말 바빴었거든.</td>\n",
       "      <td>sad</td>\n",
       "      <td>Sadness</td>\n",
       "      <td>2</td>\n",
       "      <td>Sadness</td>\n",
       "      <td>1</td>\n",
       "      <td>Sadness</td>\n",
       "      <td>2</td>\n",
       "      <td>Sadness</td>\n",
       "      <td>2</td>\n",
       "      <td>Sadness</td>\n",
       "      <td>2</td>\n",
       "      <td>48</td>\n",
       "      <td>female</td>\n",
       "    </tr>\n",
       "  </tbody>\n",
       "</table>\n",
       "</div>"
      ],
      "text/plain": [
       "                     wav_id                                        발화문  \\\n",
       "0  5ed10dbc2880d70f286121c3  개를 예쁘다고 사놓고 끝까지 키우지도 않고 버리는 사람들이 엄청 많아졌대.   \n",
       "1  5ecb60ef9aa8ea0eec53edb1                    지금도 그대로 있어. 치우는 사람이 없어.   \n",
       "2  5f052858b140144dfcfef768              맞아. 무기력증인 것 같아. 한동안 정말 바빴었거든.   \n",
       "\n",
       "        상황    1번 감정  1번 감정세기    2번 감정  2번 감정세기    3번 감정  3번 감정세기    4번 감정  \\\n",
       "0  disgust    Angry        2    Angry        2    Angry        2    Angry   \n",
       "1  disgust  Neutral        0  Disgust        2  Sadness        2  Disgust   \n",
       "2      sad  Sadness        2  Sadness        1  Sadness        2  Sadness   \n",
       "\n",
       "   4번감정세기    5번 감정  5번 감정세기  나이      성별  \n",
       "0       2    Angry        2  33  female  \n",
       "1       2  Disgust        1  48  female  \n",
       "2       2  Sadness        2  48  female  "
      ]
     },
     "execution_count": 3,
     "metadata": {},
     "output_type": "execute_result"
    }
   ],
   "source": [
    "data2 = pd.read_csv('5차년도.csv',encoding='utf-8')\n",
    "data2.head(3)"
   ]
  },
  {
   "cell_type": "code",
   "execution_count": 4,
   "metadata": {},
   "outputs": [
    {
     "data": {
      "text/html": [
       "<div>\n",
       "<style scoped>\n",
       "    .dataframe tbody tr th:only-of-type {\n",
       "        vertical-align: middle;\n",
       "    }\n",
       "\n",
       "    .dataframe tbody tr th {\n",
       "        vertical-align: top;\n",
       "    }\n",
       "\n",
       "    .dataframe thead th {\n",
       "        text-align: right;\n",
       "    }\n",
       "</style>\n",
       "<table border=\"1\" class=\"dataframe\">\n",
       "  <thead>\n",
       "    <tr style=\"text-align: right;\">\n",
       "      <th></th>\n",
       "      <th>wav_id</th>\n",
       "      <th>발화문</th>\n",
       "      <th>상황</th>\n",
       "      <th>1번 감정</th>\n",
       "      <th>1번 감정세기</th>\n",
       "      <th>2번 감정</th>\n",
       "      <th>2번 감정세기</th>\n",
       "      <th>3번 감정</th>\n",
       "      <th>3번 감정세기</th>\n",
       "      <th>4번 감정</th>\n",
       "      <th>4번감정세기</th>\n",
       "      <th>5번 감정</th>\n",
       "      <th>5번 감정세기</th>\n",
       "      <th>나이</th>\n",
       "      <th>성별</th>\n",
       "    </tr>\n",
       "  </thead>\n",
       "  <tbody>\n",
       "    <tr>\n",
       "      <th>0</th>\n",
       "      <td>5f4141e29dd513131eacee2f</td>\n",
       "      <td>헐! 나 이벤트에 당첨 됐어.</td>\n",
       "      <td>happiness</td>\n",
       "      <td>angry</td>\n",
       "      <td>2</td>\n",
       "      <td>surprise</td>\n",
       "      <td>2</td>\n",
       "      <td>happiness</td>\n",
       "      <td>2</td>\n",
       "      <td>happiness</td>\n",
       "      <td>2</td>\n",
       "      <td>happiness</td>\n",
       "      <td>2</td>\n",
       "      <td>48</td>\n",
       "      <td>female</td>\n",
       "    </tr>\n",
       "    <tr>\n",
       "      <th>1</th>\n",
       "      <td>5f4141f59dd513131eacee30</td>\n",
       "      <td>내가 좋아하는 인플루언서가 이벤트를 하더라고. 그래서 그냥 신청 한번 해봤지.</td>\n",
       "      <td>happiness</td>\n",
       "      <td>neutral</td>\n",
       "      <td>0</td>\n",
       "      <td>happiness</td>\n",
       "      <td>2</td>\n",
       "      <td>happiness</td>\n",
       "      <td>2</td>\n",
       "      <td>happiness</td>\n",
       "      <td>2</td>\n",
       "      <td>happiness</td>\n",
       "      <td>2</td>\n",
       "      <td>48</td>\n",
       "      <td>female</td>\n",
       "    </tr>\n",
       "    <tr>\n",
       "      <th>2</th>\n",
       "      <td>5f4142119dd513131eacee31</td>\n",
       "      <td>한 명 뽑는 거였는데, 그게 바로 내가 된 거야.</td>\n",
       "      <td>happiness</td>\n",
       "      <td>angry</td>\n",
       "      <td>2</td>\n",
       "      <td>happiness</td>\n",
       "      <td>2</td>\n",
       "      <td>happiness</td>\n",
       "      <td>2</td>\n",
       "      <td>happiness</td>\n",
       "      <td>2</td>\n",
       "      <td>happiness</td>\n",
       "      <td>2</td>\n",
       "      <td>48</td>\n",
       "      <td>female</td>\n",
       "    </tr>\n",
       "  </tbody>\n",
       "</table>\n",
       "</div>"
      ],
      "text/plain": [
       "                     wav_id                                          발화문  \\\n",
       "0  5f4141e29dd513131eacee2f                             헐! 나 이벤트에 당첨 됐어.   \n",
       "1  5f4141f59dd513131eacee30  내가 좋아하는 인플루언서가 이벤트를 하더라고. 그래서 그냥 신청 한번 해봤지.   \n",
       "2  5f4142119dd513131eacee31                  한 명 뽑는 거였는데, 그게 바로 내가 된 거야.   \n",
       "\n",
       "          상황    1번 감정  1번 감정세기      2번 감정  2번 감정세기      3번 감정  3번 감정세기  \\\n",
       "0  happiness    angry        2   surprise        2  happiness        2   \n",
       "1  happiness  neutral        0  happiness        2  happiness        2   \n",
       "2  happiness    angry        2  happiness        2  happiness        2   \n",
       "\n",
       "       4번 감정  4번감정세기      5번 감정  5번 감정세기  나이      성별  \n",
       "0  happiness       2  happiness        2  48  female  \n",
       "1  happiness       2  happiness        2  48  female  \n",
       "2  happiness       2  happiness        2  48  female  "
      ]
     },
     "execution_count": 4,
     "metadata": {},
     "output_type": "execute_result"
    }
   ],
   "source": [
    "data3 = pd.read_csv('5차년도_2차.csv',encoding='utf-8')\n",
    "data3.head(3)"
   ]
  },
  {
   "cell_type": "code",
   "execution_count": 5,
   "metadata": {},
   "outputs": [
    {
     "data": {
      "text/html": [
       "<div>\n",
       "<style scoped>\n",
       "    .dataframe tbody tr th:only-of-type {\n",
       "        vertical-align: middle;\n",
       "    }\n",
       "\n",
       "    .dataframe tbody tr th {\n",
       "        vertical-align: top;\n",
       "    }\n",
       "\n",
       "    .dataframe thead th {\n",
       "        text-align: right;\n",
       "    }\n",
       "</style>\n",
       "<table border=\"1\" class=\"dataframe\">\n",
       "  <thead>\n",
       "    <tr style=\"text-align: right;\">\n",
       "      <th></th>\n",
       "      <th>wav_id</th>\n",
       "      <th>발화문</th>\n",
       "      <th>상황</th>\n",
       "      <th>1번 감정</th>\n",
       "      <th>1번 감정세기</th>\n",
       "      <th>2번 감정</th>\n",
       "      <th>2번 감정세기</th>\n",
       "      <th>3번 감정</th>\n",
       "      <th>3번 감정세기</th>\n",
       "      <th>4번 감정</th>\n",
       "      <th>4번감정세기</th>\n",
       "      <th>5번 감정</th>\n",
       "      <th>5번 감정세기</th>\n",
       "      <th>나이</th>\n",
       "      <th>성별</th>\n",
       "    </tr>\n",
       "  </thead>\n",
       "  <tbody>\n",
       "    <tr>\n",
       "      <th>0</th>\n",
       "      <td>5e258fd1305bcf3ad153a6a4</td>\n",
       "      <td>어, 청소 니가 대신 해 줘!</td>\n",
       "      <td>anger</td>\n",
       "      <td>Neutral</td>\n",
       "      <td>0</td>\n",
       "      <td>Angry</td>\n",
       "      <td>1</td>\n",
       "      <td>Neutral</td>\n",
       "      <td>0</td>\n",
       "      <td>Neutral</td>\n",
       "      <td>0</td>\n",
       "      <td>Angry</td>\n",
       "      <td>1</td>\n",
       "      <td>27</td>\n",
       "      <td>male</td>\n",
       "    </tr>\n",
       "    <tr>\n",
       "      <th>1</th>\n",
       "      <td>5e258fe2305bcf3ad153a6a5</td>\n",
       "      <td>둘 다 청소 하기 싫어. 귀찮아.</td>\n",
       "      <td>anger</td>\n",
       "      <td>Neutral</td>\n",
       "      <td>0</td>\n",
       "      <td>Angry</td>\n",
       "      <td>1</td>\n",
       "      <td>Neutral</td>\n",
       "      <td>0</td>\n",
       "      <td>Neutral</td>\n",
       "      <td>0</td>\n",
       "      <td>Angry</td>\n",
       "      <td>1</td>\n",
       "      <td>27</td>\n",
       "      <td>male</td>\n",
       "    </tr>\n",
       "    <tr>\n",
       "      <th>2</th>\n",
       "      <td>5e258ff5305bcf3ad153a6a6</td>\n",
       "      <td>둘 다 하기 싫어서 화내.</td>\n",
       "      <td>anger</td>\n",
       "      <td>Angry</td>\n",
       "      <td>1</td>\n",
       "      <td>Angry</td>\n",
       "      <td>1</td>\n",
       "      <td>Neutral</td>\n",
       "      <td>0</td>\n",
       "      <td>Angry</td>\n",
       "      <td>1</td>\n",
       "      <td>Angry</td>\n",
       "      <td>1</td>\n",
       "      <td>27</td>\n",
       "      <td>male</td>\n",
       "    </tr>\n",
       "  </tbody>\n",
       "</table>\n",
       "</div>"
      ],
      "text/plain": [
       "                     wav_id                 발화문     상황    1번 감정  1번 감정세기  \\\n",
       "0  5e258fd1305bcf3ad153a6a4    어, 청소 니가 대신 해 줘!  anger  Neutral        0   \n",
       "1  5e258fe2305bcf3ad153a6a5  둘 다 청소 하기 싫어. 귀찮아.  anger  Neutral        0   \n",
       "2  5e258ff5305bcf3ad153a6a6      둘 다 하기 싫어서 화내.  anger    Angry        1   \n",
       "\n",
       "   2번 감정  2번 감정세기    3번 감정  3번 감정세기    4번 감정  4번감정세기  5번 감정  5번 감정세기  나이    성별  \n",
       "0  Angry        1  Neutral        0  Neutral       0  Angry        1  27  male  \n",
       "1  Angry        1  Neutral        0  Neutral       0  Angry        1  27  male  \n",
       "2  Angry        1  Neutral        0    Angry       1  Angry        1  27  male  "
      ]
     },
     "execution_count": 5,
     "metadata": {},
     "output_type": "execute_result"
    }
   ],
   "source": [
    "data = pd.concat([data1,data2,data3])\n",
    "data.head(3)"
   ]
  },
  {
   "cell_type": "code",
   "execution_count": 6,
   "metadata": {},
   "outputs": [
    {
     "data": {
      "text/html": [
       "<div>\n",
       "<style scoped>\n",
       "    .dataframe tbody tr th:only-of-type {\n",
       "        vertical-align: middle;\n",
       "    }\n",
       "\n",
       "    .dataframe tbody tr th {\n",
       "        vertical-align: top;\n",
       "    }\n",
       "\n",
       "    .dataframe thead th {\n",
       "        text-align: right;\n",
       "    }\n",
       "</style>\n",
       "<table border=\"1\" class=\"dataframe\">\n",
       "  <thead>\n",
       "    <tr style=\"text-align: right;\">\n",
       "      <th></th>\n",
       "      <th>발화문</th>\n",
       "      <th>상황</th>\n",
       "    </tr>\n",
       "  </thead>\n",
       "  <tbody>\n",
       "    <tr>\n",
       "      <th>0</th>\n",
       "      <td>어, 청소 니가 대신 해 줘!</td>\n",
       "      <td>anger</td>\n",
       "    </tr>\n",
       "    <tr>\n",
       "      <th>1</th>\n",
       "      <td>둘 다 청소 하기 싫어. 귀찮아.</td>\n",
       "      <td>anger</td>\n",
       "    </tr>\n",
       "    <tr>\n",
       "      <th>2</th>\n",
       "      <td>둘 다 하기 싫어서 화내.</td>\n",
       "      <td>anger</td>\n",
       "    </tr>\n",
       "  </tbody>\n",
       "</table>\n",
       "</div>"
      ],
      "text/plain": [
       "                  발화문     상황\n",
       "0    어, 청소 니가 대신 해 줘!  anger\n",
       "1  둘 다 청소 하기 싫어. 귀찮아.  anger\n",
       "2      둘 다 하기 싫어서 화내.  anger"
      ]
     },
     "execution_count": 6,
     "metadata": {},
     "output_type": "execute_result"
    }
   ],
   "source": [
    "text = data.loc[:,'발화문':'상황']\n",
    "text.head(3)"
   ]
  },
  {
   "cell_type": "code",
   "execution_count": 7,
   "metadata": {},
   "outputs": [],
   "source": [
    "text = text.drop_duplicates(['발화문', '상황'], keep = False)"
   ]
  },
  {
   "cell_type": "code",
   "execution_count": 8,
   "metadata": {},
   "outputs": [],
   "source": [
    "# 중복 제거\n",
    "text.drop_duplicates(subset=['발화문'], inplace=True)\n",
    "# Null 값이 존재하는 행 제거\n",
    "text = text.dropna(how = 'any')"
   ]
  },
  {
   "cell_type": "code",
   "execution_count": 9,
   "metadata": {},
   "outputs": [
    {
     "name": "stdout",
     "output_type": "stream",
     "text": [
      "샘플 데이터 수:  35652\n",
      "발화문    0\n",
      "상황     0\n",
      "dtype: int64\n"
     ]
    }
   ],
   "source": [
    "print('샘플 데이터 수: ',len(text))\n",
    "print(text.isnull().sum())"
   ]
  },
  {
   "cell_type": "code",
   "execution_count": 10,
   "metadata": {},
   "outputs": [
    {
     "data": {
      "text/plain": [
       "array(['anger', 'sad', 'fear', 'disgust', 'neutral', 'happiness',\n",
       "       'sadness', 'angry', 'surprise'], dtype=object)"
      ]
     },
     "execution_count": 10,
     "metadata": {},
     "output_type": "execute_result"
    }
   ],
   "source": [
    "text['상황'].unique()"
   ]
  },
  {
   "cell_type": "code",
   "execution_count": 25,
   "metadata": {},
   "outputs": [
    {
     "data": {
      "text/plain": [
       "sad          8994\n",
       "anger        7104\n",
       "disgust      3972\n",
       "happiness    3382\n",
       "fear         3280\n",
       "angry        2780\n",
       "neutral      2648\n",
       "sadness      2128\n",
       "surprise     1364\n",
       "Name: 상황, dtype: int64"
      ]
     },
     "execution_count": 25,
     "metadata": {},
     "output_type": "execute_result"
    }
   ],
   "source": [
    "text['상황'].value_counts()"
   ]
  },
  {
   "cell_type": "code",
   "execution_count": 26,
   "metadata": {},
   "outputs": [],
   "source": [
    "text.loc[(text['상황'] == \"anger\"), '상황'] = 0\n",
    "text.loc[(text['상황'] == \"angry\"), '상황'] = 0\n",
    "text.loc[(text['상황'] == \"sad\"), '상황'] = 1\n",
    "text.loc[(text['상황'] == \"sadness\"), '상황'] = 1\n",
    "text.loc[(text['상황'] == \"fear\"), '상황'] = 2\n",
    "text.loc[(text['상황'] == \"disgust\"), '상황'] = 3\n",
    "text.loc[(text['상황'] == \"neutral\"), '상황'] = 4\n",
    "text.loc[(text['상황'] == \"happiness\"), '상황'] = 5\n",
    "text.loc[(text['상황'] == \"surprise\"), '상황'] = 6"
   ]
  },
  {
   "cell_type": "markdown",
   "metadata": {},
   "source": [
    "토큰화"
   ]
  },
  {
   "cell_type": "code",
   "execution_count": 27,
   "metadata": {},
   "outputs": [],
   "source": [
    "okt = Okt()\n",
    "stopwords = pd.read_csv('korean_stopwords.csv')"
   ]
  },
  {
   "cell_type": "code",
   "execution_count": 28,
   "metadata": {},
   "outputs": [
    {
     "name": "stderr",
     "output_type": "stream",
     "text": [
      "100%|██████████| 35652/35652 [00:44<00:00, 793.14it/s] \n"
     ]
    }
   ],
   "source": [
    "input = []\n",
    "for sentence in tqdm(text['발화문']):\n",
    "    tokenized_sentence = okt.morphs(sentence, stem=True) # 토큰화\n",
    "    stopwords_removed_sentence = [word for word in tokenized_sentence if not word in stopwords] # 불용어 제거\n",
    "    input.append(stopwords_removed_sentence)"
   ]
  },
  {
   "cell_type": "code",
   "execution_count": 29,
   "metadata": {},
   "outputs": [],
   "source": [
    "label = text['상황']\n",
    "\n",
    "x_train, x_test, y_train, y_test = train_test_split(input,label,test_size=0.2, random_state=71, shuffle=True)"
   ]
  },
  {
   "cell_type": "markdown",
   "metadata": {},
   "source": [
    "정수 인코딩"
   ]
  },
  {
   "cell_type": "code",
   "execution_count": 30,
   "metadata": {},
   "outputs": [],
   "source": [
    "tokenizer = Tokenizer()\n",
    "tokenizer.fit_on_texts(x_train)"
   ]
  },
  {
   "cell_type": "code",
   "execution_count": 31,
   "metadata": {},
   "outputs": [
    {
     "name": "stdout",
     "output_type": "stream",
     "text": [
      "단어 집합의 크기 : 4705\n"
     ]
    }
   ],
   "source": [
    "total_cnt = len(tokenizer.word_index) # 단어의 수\n",
    "vocab_size = total_cnt + 1\n",
    "print('단어 집합의 크기 :',vocab_size)"
   ]
  },
  {
   "cell_type": "code",
   "execution_count": 32,
   "metadata": {},
   "outputs": [],
   "source": [
    "tokenizer = Tokenizer(vocab_size)\n",
    "tokenizer.fit_on_texts(x_train)\n",
    "x_train = tokenizer.texts_to_sequences(x_train)\n",
    "x_test = tokenizer.texts_to_sequences(x_test)"
   ]
  },
  {
   "cell_type": "code",
   "execution_count": 33,
   "metadata": {},
   "outputs": [],
   "source": [
    "y_train = to_categorical(y_train)\n",
    "y_test = to_categorical(y_test)"
   ]
  },
  {
   "cell_type": "markdown",
   "metadata": {},
   "source": [
    "패딩"
   ]
  },
  {
   "cell_type": "code",
   "execution_count": 34,
   "metadata": {},
   "outputs": [
    {
     "name": "stdout",
     "output_type": "stream",
     "text": [
      "최대 길이 : 56\n",
      "평균 길이 : 11.466393183969707\n"
     ]
    }
   ],
   "source": [
    "print('최대 길이 :',max(len(i) for i in x_train))\n",
    "print('평균 길이 :',sum(map(len, x_train))/len(x_train))"
   ]
  },
  {
   "cell_type": "code",
   "execution_count": 35,
   "metadata": {},
   "outputs": [],
   "source": [
    "import matplotlib.pyplot as plt"
   ]
  },
  {
   "cell_type": "code",
   "execution_count": 36,
   "metadata": {},
   "outputs": [
    {
     "data": {
      "image/png": "[encoded data removed]",
      "text/plain": [
       "<Figure size 640x480 with 1 Axes>"
      ]
     },
     "metadata": {},
     "output_type": "display_data"
    }
   ],
   "source": [
    "plt.hist([len(i) for i in x_train], bins=50)\n",
    "plt.xlabel('length of samples')\n",
    "plt.ylabel('number of samples')\n",
    "plt.show()"
   ]
  },
  {
   "cell_type": "code",
   "execution_count": 37,
   "metadata": {},
   "outputs": [],
   "source": [
    "def below_len(max_len,data):\n",
    "    cnt = 0\n",
    "    for i in data:\n",
    "        if len(i) <= max_len:\n",
    "            cnt += 1\n",
    "    print('길이가 %s 이하인 text 비율: %s'%(max_len, (cnt/len(data)*100)))"
   ]
  },
  {
   "cell_type": "code",
   "execution_count": 38,
   "metadata": {},
   "outputs": [
    {
     "name": "stdout",
     "output_type": "stream",
     "text": [
      "길이가 25 이하인 text 비율: 97.86823743907998\n"
     ]
    }
   ],
   "source": [
    "max_len = 25\n",
    "below_len(max_len, x_train)"
   ]
  },
  {
   "cell_type": "code",
   "execution_count": 39,
   "metadata": {},
   "outputs": [],
   "source": [
    "x_train = pad_sequences(x_train, maxlen=max_len)\n",
    "x_test = pad_sequences(x_test, maxlen=max_len)"
   ]
  },
  {
   "cell_type": "code",
   "execution_count": 40,
   "metadata": {},
   "outputs": [],
   "source": [
    "train_x, x_val, train_y, y_val = train_test_split(x_train,y_train,test_size=0.1, random_state=71, shuffle=True)"
   ]
  },
  {
   "cell_type": "markdown",
   "metadata": {},
   "source": [
    "### LSTM"
   ]
  },
  {
   "cell_type": "code",
   "execution_count": 41,
   "metadata": {},
   "outputs": [],
   "source": [
    "from keras.layers import Embedding, Dense, LSTM\n",
    "from keras.models import Sequential\n",
    "from keras.models import load_model\n",
    "from keras.callbacks import EarlyStopping, ModelCheckpoint"
   ]
  },
  {
   "cell_type": "code",
   "execution_count": 43,
   "metadata": {},
   "outputs": [
    {
     "name": "stdout",
     "output_type": "stream",
     "text": [
      "Epoch 1/15\n",
      "801/803 [============================>.] - ETA: 0s - loss: 1.0427 - acc: 0.6218\n",
      "Epoch 1: val_acc improved from -inf to 0.83456, saving model to lstm_best_model.h5\n",
      "803/803 [==============================] - 10s 9ms/step - loss: 1.0422 - acc: 0.6221 - val_loss: 0.5325 - val_acc: 0.8346\n",
      "Epoch 2/15\n",
      "801/803 [============================>.] - ETA: 0s - loss: 0.4162 - acc: 0.8655\n",
      "Epoch 2: val_acc improved from 0.83456 to 0.86050, saving model to lstm_best_model.h5\n",
      "803/803 [==============================] - 7s 8ms/step - loss: 0.4161 - acc: 0.8654 - val_loss: 0.4120 - val_acc: 0.8605\n",
      "Epoch 3/15\n",
      "801/803 [============================>.] - ETA: 0s - loss: 0.3135 - acc: 0.8961\n",
      "Epoch 3: val_acc improved from 0.86050 to 0.86470, saving model to lstm_best_model.h5\n",
      "803/803 [==============================] - 7s 9ms/step - loss: 0.3134 - acc: 0.8962 - val_loss: 0.4065 - val_acc: 0.8647\n",
      "Epoch 4/15\n",
      "803/803 [==============================] - ETA: 0s - loss: 0.2643 - acc: 0.9106\n",
      "Epoch 4: val_acc improved from 0.86470 to 0.87242, saving model to lstm_best_model.h5\n",
      "803/803 [==============================] - 7s 8ms/step - loss: 0.2643 - acc: 0.9106 - val_loss: 0.3880 - val_acc: 0.8724\n",
      "Epoch 5/15\n",
      "797/803 [============================>.] - ETA: 0s - loss: 0.2371 - acc: 0.9189\n",
      "Epoch 5: val_acc did not improve from 0.87242\n",
      "803/803 [==============================] - 6s 8ms/step - loss: 0.2373 - acc: 0.9189 - val_loss: 0.3985 - val_acc: 0.8633\n",
      "Epoch 6/15\n",
      "799/803 [============================>.] - ETA: 0s - loss: 0.2122 - acc: 0.9269\n",
      "Epoch 6: val_acc did not improve from 0.87242\n",
      "803/803 [==============================] - 6s 8ms/step - loss: 0.2126 - acc: 0.9268 - val_loss: 0.3991 - val_acc: 0.8658\n",
      "Epoch 7/15\n",
      "799/803 [============================>.] - ETA: 0s - loss: 0.1993 - acc: 0.9306\n",
      "Epoch 7: val_acc did not improve from 0.87242\n",
      "803/803 [==============================] - 6s 8ms/step - loss: 0.1990 - acc: 0.9307 - val_loss: 0.4116 - val_acc: 0.8689\n",
      "Epoch 7: early stopping\n"
     ]
    }
   ],
   "source": [
    "embedding_dim = 32\n",
    "hidden_units = 32\n",
    "\n",
    "model = Sequential()\n",
    "model.add(Embedding(vocab_size, embedding_dim))\n",
    "model.add(LSTM(hidden_units))\n",
    "model.add(Dense(7, activation='softmax'))\n",
    "\n",
    "es = EarlyStopping(monitor='val_loss', mode='min', verbose=1, patience=3)\n",
    "mc = ModelCheckpoint('lstm_best_model.h5', monitor='val_acc', mode='max', verbose=1, save_best_only=True)\n",
    "\n",
    "model.compile(loss='categorical_crossentropy', optimizer='adam', metrics=['acc'])\n",
    "history = model.fit(train_x, train_y, batch_size=32, epochs=15, callbacks=[es, mc], validation_data=(x_val,y_val))"
   ]
  },
  {
   "cell_type": "code",
   "execution_count": 44,
   "metadata": {},
   "outputs": [
    {
     "name": "stdout",
     "output_type": "stream",
     "text": [
      "223/223 [==============================] - 2s 7ms/step - loss: 0.3894 - acc: 0.8710\n",
      "\n",
      " 테스트 정확도: 0.8710\n"
     ]
    }
   ],
   "source": [
    "loaded_model = load_model('lstm_best_model.h5')\n",
    "print(\"\\n 테스트 정확도: %.4f\" % (loaded_model.evaluate(x_test, y_test)[1]))"
   ]
  },
  {
   "cell_type": "markdown",
   "metadata": {},
   "source": [
    "예측"
   ]
  },
  {
   "cell_type": "code",
   "execution_count": 45,
   "metadata": {},
   "outputs": [],
   "source": [
    "emotions = ['anger', 'sad', 'fear', 'disgust', 'neutral', 'happiness', 'surprise']"
   ]
  },
  {
   "cell_type": "code",
   "execution_count": 64,
   "metadata": {},
   "outputs": [],
   "source": [
    "def sentiment_predict(text):\n",
    "    text = okt.morphs(text, stem=True) # 토큰화\n",
    "    text = [word for word in text if not word in stopwords] # 불용어 제거\n",
    "    encoded = tokenizer.texts_to_sequences([text]) # 정수 인코딩\n",
    "    pad_new = pad_sequences(encoded, maxlen = max_len) # 패딩\n",
    "    score = loaded_model.predict(pad_new) # 예측\n",
    "\n",
    "    for i in range(0,len(score[0])):\n",
    "        temp =score[0][i]\n",
    "        print(\"%s: %4f %% \"%(emotions[i],temp*100))"
   ]
  },
  {
   "cell_type": "code",
   "execution_count": 67,
   "metadata": {},
   "outputs": [
    {
     "name": "stdout",
     "output_type": "stream",
     "text": [
      "1/1 [==============================] - 0s 27ms/step\n",
      "anger: 2.109141 % \n",
      "sad: 96.738040 % \n",
      "fear: 0.627809 % \n",
      "disgust: 0.144777 % \n",
      "neutral: 0.126732 % \n",
      "happiness: 0.223498 % \n",
      "surprise: 0.029999 % \n"
     ]
    }
   ],
   "source": [
    "sentiment_predict('어제 헤어졌어.')"
   ]
  },
  {
   "cell_type": "code",
   "execution_count": 68,
   "metadata": {},
   "outputs": [
    {
     "name": "stdout",
     "output_type": "stream",
     "text": [
      "1/1 [==============================] - 0s 27ms/step\n",
      "anger: 1.816015 % \n",
      "sad: 0.074495 % \n",
      "fear: 92.162675 % \n",
      "disgust: 1.381358 % \n",
      "neutral: 0.475360 % \n",
      "happiness: 0.048414 % \n",
      "surprise: 4.041686 % \n"
     ]
    }
   ],
   "source": [
    "sentiment_predict('어제 비가와서 너무 놀랐어!')"
   ]
  },
  {
   "cell_type": "code",
   "execution_count": 72,
   "metadata": {},
   "outputs": [
    {
     "name": "stdout",
     "output_type": "stream",
     "text": [
      "1/1 [==============================] - 0s 37ms/step\n",
      "anger: 25.662661 % \n",
      "sad: 4.308002 % \n",
      "fear: 60.508603 % \n",
      "disgust: 3.261201 % \n",
      "neutral: 3.234426 % \n",
      "happiness: 0.223725 % \n",
      "surprise: 2.801387 % \n"
     ]
    }
   ],
   "source": [
    "sentiment_predict('조금 화가 났었지만 지금은 괜찮아.')\n"
   ]
  },
  {
   "cell_type": "code",
   "execution_count": 71,
   "metadata": {},
   "outputs": [
    {
     "name": "stdout",
     "output_type": "stream",
     "text": [
      "1/1 [==============================] - 0s 28ms/step\n",
      "anger: 81.254870 % \n",
      "sad: 4.024636 % \n",
      "fear: 3.426353 % \n",
      "disgust: 0.630840 % \n",
      "neutral: 8.094681 % \n",
      "happiness: 2.351257 % \n",
      "surprise: 0.217371 % \n"
     ]
    }
   ],
   "source": [
    "sentiment_predict('어떻게 나를 빼고 영화를 볼 수 있지?')"
   ]
  }
 ],
 "metadata": {
  "kernelspec": {
   "display_name": "Python 3.8.16 ('dgu')",
   "language": "python",
   "name": "python3"
  },
  "language_info": {
   "codemirror_mode": {
    "name": "ipython",
    "version": 3
   },
   "file_extension": ".py",
   "mimetype": "text/x-python",
   "name": "python",
   "nbconvert_exporter": "python",
   "pygments_lexer": "ipython3",
   "version": "3.8.16"
  },
  "orig_nbformat": 4,
  "vscode": {
   "interpreter": {
    "hash": "0ed1aed28c50670b1980493b5ccdb2fddf9e72a7c94636fab5b753eee23b1407"
   }
  }
 },
 "nbformat": 4,
 "nbformat_minor": 2
}
